{
 "cells": [
  {
   "cell_type": "code",
   "execution_count": 13,
   "id": "20da2ea9-8ac4-493e-97ef-fd77ae535188",
   "metadata": {},
   "outputs": [
    {
     "name": "stdout",
     "output_type": "stream",
     "text": [
      "The autoreload extension is already loaded. To reload it, use:\n",
      "  %reload_ext autoreload\n"
     ]
    }
   ],
   "source": [
    "%load_ext autoreload\n",
    "%autoreload 2\n",
    "\n",
    "from deribit_vol_surface import get_vol_surface\n",
    "import numpy as np\n",
    "from pyquant.black_scholes import *\n",
    "from pyquant.common import *\n",
    "from pyquant.sabr import Backbone, SABRCalc\n",
    "from pyquant.ssvi import SSVICalc, SSVIParams, Eta, Lambda, Alpha, Beta, Gamma_\n",
    "from pyquant.svi import SVICalc\n",
    "from pyquant.vol_surface import *"
   ]
  },
  {
   "cell_type": "code",
   "execution_count": 47,
   "id": "06e5dfe0-fca8-4eae-8ade-a642dc060f74",
   "metadata": {},
   "outputs": [],
   "source": [
    "vol_surface_chain_space = get_vol_surface(\"deribit_vol_surface.csv\")\n",
    "# convert to delta-space\n",
    "vol_surface_delta_space: VolSurfaceDeltaSpace = SABRCalc().surface_to_delta_space(\n",
    "    vol_surface_chain_space, Backbone(1.0)\n",
    ")"
   ]
  },
  {
   "cell_type": "code",
   "execution_count": 50,
   "id": "3e9a2be0-edd5-48f2-b199-fc433341477b",
   "metadata": {},
   "outputs": [
    {
     "name": "stdout",
     "output_type": "stream",
     "text": [
      "Implied variances to calibrate to: [6.17716273e-04 4.20943471e-04 3.60679404e-04 4.23746882e-04\n",
      " 6.26080351e-04 9.55529790e-02 7.11659877e-02 6.23392525e-02\n",
      " 6.46707854e-02 7.86270738e-02 1.99065879e-01 1.51295292e-01\n",
      " 1.35149892e-01 1.40650388e-01 1.71588036e-01 2.99226785e-01\n",
      " 2.29745150e-01 2.08188468e-01 2.20168771e-01 2.74366405e-01\n",
      " 4.04467053e-01 3.13784788e-01 2.88382908e-01 3.12809348e-01\n",
      " 4.01907680e-01]\n",
      "Strikes from delta-space we calibrate to: [1760.30244267 1792.12196553 1816.71212101 1842.50241728 1876.49909563\n",
      " 1286.99881324 1578.27903458 1823.36792907 2235.68221784 2716.52274703\n",
      " 1141.93974032 1519.34051735 1831.22082352 2530.11424628 3392.73549455\n",
      " 1059.93460448 1493.61833313 1839.73872432 2818.46638796 4129.19977602\n",
      " 1003.46779374 1484.87876511 1852.         3157.90393101 5102.21657663]\n",
      "Tenors from delta-space we calibrate to: [3.63394216e-04 3.63394216e-04 3.63394216e-04 3.63394216e-04\n",
      " 3.63394216e-04 2.27760654e-01 2.27760654e-01 2.27760654e-01\n",
      " 2.27760654e-01 2.27760654e-01 4.55157915e-01 4.55157915e-01\n",
      " 4.55157915e-01 4.55157915e-01 4.55157915e-01 6.82555175e-01\n",
      " 6.82555175e-01 6.82555175e-01 6.82555175e-01 6.82555175e-01\n",
      " 9.09952435e-01 9.09952435e-01 9.09952435e-01 9.09952435e-01\n",
      " 9.09952435e-01]\n",
      "Thetas by dots: [0.00036068 0.00036068 0.00036068 0.00036068 0.06233925 0.06233925\n",
      " 0.06233925 0.06233925 0.13514989 0.13514989 0.13514989 0.13514989\n",
      " 0.20818847 0.20818847 0.20818847 0.20818847 0.28838291 0.28838291\n",
      " 0.28838291 0.28838291]\n",
      "[ 1.07789559  0.46387266 -1.36616883  0.05539444  1.19129199]\n",
      "3.292733261869874e-09\n"
     ]
    }
   ],
   "source": [
    "# get all market with usable format\n",
    "ssvi = SSVICalc()\n",
    "calc_params, calibration_error, strikes, Ts, implied_variances = ssvi.calibrate(vol_surface_delta_space, 5, True)\n"
   ]
  },
  {
   "cell_type": "code",
   "execution_count": 49,
   "id": "d872682c-cd7e-4912-b8f0-dbe06fc9b7d3",
   "metadata": {},
   "outputs": [
    {
     "data": {
      "text/plain": [
       "array([1760.30244267, 1792.12196553, 1816.71212101, 1842.50241728,\n",
       "       1876.49909563, 1286.99881324, 1578.27903458, 1823.36792907,\n",
       "       2235.68221784, 2716.52274703, 1141.93974032, 1519.34051735,\n",
       "       1831.22082352, 2530.11424628, 3392.73549455, 1059.93460448,\n",
       "       1493.61833313, 1839.73872432, 2818.46638796, 4129.19977602,\n",
       "       1003.46779374, 1484.87876511, 1852.        , 3157.90393101,\n",
       "       5102.21657663])"
      ]
     },
     "execution_count": 49,
     "metadata": {},
     "output_type": "execute_result"
    }
   ],
   "source": [
    "strikes"
   ]
  },
  {
   "cell_type": "code",
   "execution_count": 53,
   "id": "f308261d-296c-4e4a-a7ff-60666728fd7c",
   "metadata": {},
   "outputs": [
    {
     "data": {
      "text/plain": [
       "array([1.30378361, 1.07627409, 0.99625764, 1.07985204, 1.31258075,\n",
       "       0.64771323, 0.5589808 , 0.52316833, 0.53286196, 0.58755254,\n",
       "       0.66132869, 0.57654294, 0.54491254, 0.55589071, 0.61399163,\n",
       "       0.66211184, 0.5801687 , 0.55228017, 0.56794853, 0.6340107 ,\n",
       "       0.66670272, 0.58722779, 0.56295725, 0.58631434, 0.66459001])"
      ]
     },
     "execution_count": 53,
     "metadata": {},
     "output_type": "execute_result"
    }
   ],
   "source": [
    "np.sqrt(implied_variances/Ts)"
   ]
  },
  {
   "cell_type": "code",
   "execution_count": 18,
   "id": "22c1137c-38f7-4554-aeed-e791a324532b",
   "metadata": {},
   "outputs": [
    {
     "ename": "TypingError",
     "evalue": "Failed in nopython mode pipeline (step: nopython frontend)\n\u001b[1m\u001b[1mnon-precise type pyobject\u001b[0m\n\u001b[0m\u001b[1mDuring: typing of argument at <string> (2)\u001b[0m\n\u001b[1m\nFile \"<string>\", line 2:\u001b[0m\n\u001b[1m<source missing, REPL/exec in use?>\u001b[0m \n\nThis error may have been caused by the following argument(s):\n- argument 1: \u001b[1mCannot determine Numba type of <class 'tuple'>\u001b[0m\n",
     "output_type": "error",
     "traceback": [
      "\u001b[0;31m---------------------------------------------------------------------------\u001b[0m",
      "\u001b[0;31mTypingError\u001b[0m                               Traceback (most recent call last)",
      "Cell \u001b[0;32mIn[18], line 8\u001b[0m\n\u001b[1;32m      1\u001b[0m ssvi_params \u001b[38;5;241m=\u001b[39m SSVIParams(\n\u001b[1;32m      2\u001b[0m     Eta(calc_params[\u001b[38;5;241m0\u001b[39m]),\n\u001b[1;32m      3\u001b[0m     Lambda(calc_params[\u001b[38;5;241m1\u001b[39m]), \n\u001b[0;32m   (...)\u001b[0m\n\u001b[1;32m      6\u001b[0m     Gamma_(calc_params[\u001b[38;5;241m4\u001b[39m])\n\u001b[1;32m      7\u001b[0m )\n\u001b[0;32m----> 8\u001b[0m \u001b[43mssvi\u001b[49m\u001b[38;5;241;43m.\u001b[39;49m\u001b[43m_grid_implied_variances\u001b[49m\u001b[43m(\u001b[49m\u001b[43mSSVIParams\u001b[49m\u001b[43m)\u001b[49m\n",
      "File \u001b[0;32m~/.pyenv/versions/3.11.0/lib/python3.11/site-packages/numba/experimental/jitclass/boxing.py:61\u001b[0m, in \u001b[0;36m_generate_method.<locals>.wrapper\u001b[0;34m(*args, **kwargs)\u001b[0m\n\u001b[1;32m     59\u001b[0m \u001b[38;5;129m@wraps\u001b[39m(func)\n\u001b[1;32m     60\u001b[0m \u001b[38;5;28;01mdef\u001b[39;00m \u001b[38;5;21mwrapper\u001b[39m(\u001b[38;5;241m*\u001b[39margs, \u001b[38;5;241m*\u001b[39m\u001b[38;5;241m*\u001b[39mkwargs):\n\u001b[0;32m---> 61\u001b[0m     \u001b[38;5;28;01mreturn\u001b[39;00m \u001b[43mmethod\u001b[49m\u001b[43m(\u001b[49m\u001b[38;5;241;43m*\u001b[39;49m\u001b[43margs\u001b[49m\u001b[43m,\u001b[49m\u001b[43m \u001b[49m\u001b[38;5;241;43m*\u001b[39;49m\u001b[38;5;241;43m*\u001b[39;49m\u001b[43mkwargs\u001b[49m\u001b[43m)\u001b[49m\n",
      "File \u001b[0;32m~/.pyenv/versions/3.11.0/lib/python3.11/site-packages/numba/core/dispatcher.py:423\u001b[0m, in \u001b[0;36m_DispatcherBase._compile_for_args\u001b[0;34m(self, *args, **kws)\u001b[0m\n\u001b[1;32m    419\u001b[0m         msg \u001b[38;5;241m=\u001b[39m (\u001b[38;5;124mf\u001b[39m\u001b[38;5;124m\"\u001b[39m\u001b[38;5;132;01m{\u001b[39;00m\u001b[38;5;28mstr\u001b[39m(e)\u001b[38;5;241m.\u001b[39mrstrip()\u001b[38;5;132;01m}\u001b[39;00m\u001b[38;5;124m \u001b[39m\u001b[38;5;130;01m\\n\u001b[39;00m\u001b[38;5;130;01m\\n\u001b[39;00m\u001b[38;5;124mThis error may have been caused \u001b[39m\u001b[38;5;124m\"\u001b[39m\n\u001b[1;32m    420\u001b[0m                \u001b[38;5;124mf\u001b[39m\u001b[38;5;124m\"\u001b[39m\u001b[38;5;124mby the following argument(s):\u001b[39m\u001b[38;5;130;01m\\n\u001b[39;00m\u001b[38;5;132;01m{\u001b[39;00margs_str\u001b[38;5;132;01m}\u001b[39;00m\u001b[38;5;130;01m\\n\u001b[39;00m\u001b[38;5;124m\"\u001b[39m)\n\u001b[1;32m    421\u001b[0m         e\u001b[38;5;241m.\u001b[39mpatch_message(msg)\n\u001b[0;32m--> 423\u001b[0m     \u001b[43merror_rewrite\u001b[49m\u001b[43m(\u001b[49m\u001b[43me\u001b[49m\u001b[43m,\u001b[49m\u001b[43m \u001b[49m\u001b[38;5;124;43m'\u001b[39;49m\u001b[38;5;124;43mtyping\u001b[39;49m\u001b[38;5;124;43m'\u001b[39;49m\u001b[43m)\u001b[49m\n\u001b[1;32m    424\u001b[0m \u001b[38;5;28;01mexcept\u001b[39;00m errors\u001b[38;5;241m.\u001b[39mUnsupportedError \u001b[38;5;28;01mas\u001b[39;00m e:\n\u001b[1;32m    425\u001b[0m     \u001b[38;5;66;03m# Something unsupported is present in the user code, add help info\u001b[39;00m\n\u001b[1;32m    426\u001b[0m     error_rewrite(e, \u001b[38;5;124m'\u001b[39m\u001b[38;5;124munsupported_error\u001b[39m\u001b[38;5;124m'\u001b[39m)\n",
      "File \u001b[0;32m~/.pyenv/versions/3.11.0/lib/python3.11/site-packages/numba/core/dispatcher.py:364\u001b[0m, in \u001b[0;36m_DispatcherBase._compile_for_args.<locals>.error_rewrite\u001b[0;34m(e, issue_type)\u001b[0m\n\u001b[1;32m    362\u001b[0m     \u001b[38;5;28;01mraise\u001b[39;00m e\n\u001b[1;32m    363\u001b[0m \u001b[38;5;28;01melse\u001b[39;00m:\n\u001b[0;32m--> 364\u001b[0m     \u001b[38;5;28;01mraise\u001b[39;00m e\u001b[38;5;241m.\u001b[39mwith_traceback(\u001b[38;5;28;01mNone\u001b[39;00m)\n",
      "\u001b[0;31mTypingError\u001b[0m: Failed in nopython mode pipeline (step: nopython frontend)\n\u001b[1m\u001b[1mnon-precise type pyobject\u001b[0m\n\u001b[0m\u001b[1mDuring: typing of argument at <string> (2)\u001b[0m\n\u001b[1m\nFile \"<string>\", line 2:\u001b[0m\n\u001b[1m<source missing, REPL/exec in use?>\u001b[0m \n\nThis error may have been caused by the following argument(s):\n- argument 1: \u001b[1mCannot determine Numba type of <class 'tuple'>\u001b[0m\n"
     ]
    }
   ],
   "source": [
    "ssvi_params = SSVIParams(\n",
    "    Eta(calc_params[0]),\n",
    "    Lambda(calc_params[1]), \n",
    "    Alpha(calc_params[2]), \n",
    "    Beta(calc_params[3]), \n",
    "    Gamma_(calc_params[4])\n",
    ")\n",
    "ssvi._grid_implied_variances(SSVIParams)"
   ]
  },
  {
   "cell_type": "code",
   "execution_count": null,
   "id": "ba5338b4-6356-4d4d-984f-edc290af43c5",
   "metadata": {},
   "outputs": [],
   "source": []
  },
  {
   "cell_type": "code",
   "execution_count": null,
   "id": "0255ed25-03ec-4690-870d-c54a755b43b3",
   "metadata": {},
   "outputs": [],
   "source": []
  }
 ],
 "metadata": {
  "kernelspec": {
   "display_name": "Python 3 (ipykernel)",
   "language": "python",
   "name": "python3"
  },
  "language_info": {
   "codemirror_mode": {
    "name": "ipython",
    "version": 3
   },
   "file_extension": ".py",
   "mimetype": "text/x-python",
   "name": "python",
   "nbconvert_exporter": "python",
   "pygments_lexer": "ipython3",
   "version": "3.11.0"
  }
 },
 "nbformat": 4,
 "nbformat_minor": 5
}
