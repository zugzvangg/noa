{
 "cells": [
  {
   "cell_type": "code",
   "execution_count": 20,
   "id": "20da2ea9-8ac4-493e-97ef-fd77ae535188",
   "metadata": {},
   "outputs": [
    {
     "name": "stdout",
     "output_type": "stream",
     "text": [
      "The autoreload extension is already loaded. To reload it, use:\n",
      "  %reload_ext autoreload\n"
     ]
    },
    {
     "data": {
      "text/html": [
       "        <script type=\"text/javascript\">\n",
       "        window.PlotlyConfig = {MathJaxConfig: 'local'};\n",
       "        if (window.MathJax && window.MathJax.Hub && window.MathJax.Hub.Config) {window.MathJax.Hub.Config({SVG: {font: \"STIX-Web\"}});}\n",
       "        </script>\n",
       "        <script type=\"module\">import \"https://cdn.plot.ly/plotly-3.0.1.min\"</script>\n",
       "        "
      ]
     },
     "metadata": {},
     "output_type": "display_data"
    }
   ],
   "source": [
    "%load_ext autoreload\n",
    "%autoreload 2\n",
    "\n",
    "from deribit_vol_surface import get_vol_surface\n",
    "import numpy as np\n",
    "from pyquant.black_scholes import *\n",
    "from pyquant.common import *\n",
    "from pyquant.sabr import Backbone, SABRCalc\n",
    "from pyquant.ssvi import SSVICalc, SSVIParams, Eta, Lambda, Alpha, Beta, Gamma_\n",
    "from pyquant.svi import SVICalc\n",
    "from pyquant.vol_surface import *\n",
    "\n",
    "from plotly.offline import init_notebook_mode, iplot\n",
    "\n",
    "init_notebook_mode(connected=True) \n",
    "import plotly.io as pio\n",
    "pio.renderers.default = 'iframe'"
   ]
  },
  {
   "cell_type": "code",
   "execution_count": 48,
   "id": "06e5dfe0-fca8-4eae-8ade-a642dc060f74",
   "metadata": {},
   "outputs": [
    {
     "name": "stdout",
     "output_type": "stream",
     "text": [
      "Implied variances to calibrate to: [6.17716273e-04 4.20943471e-04 3.60679404e-04 4.23746882e-04\n",
      " 6.26080351e-04 4.41702202e-02 3.16116067e-02 2.72926749e-02\n",
      " 2.95834138e-02 3.85795674e-02 8.59382970e-02 6.28264898e-02\n",
      " 5.45657837e-02 5.70625407e-02 7.06250790e-02 1.27890273e-01\n",
      " 9.74437242e-02 8.64669946e-02 8.91139751e-02 1.06639036e-01\n",
      " 1.75711784e-01 1.33604170e-01 1.19084083e-01 1.23548213e-01\n",
      " 1.49841534e-01 2.21639899e-01 1.68659314e-01 1.51075140e-01\n",
      " 1.57648358e-01 1.93170358e-01 2.65758877e-01 2.03207770e-01\n",
      " 1.83191987e-01 1.92396409e-01 2.37753992e-01 3.10620213e-01\n",
      " 2.38808471e-01 2.16775784e-01 2.29879910e-01 2.87417505e-01\n",
      " 3.57139048e-01 2.75918638e-01 2.52122397e-01 2.70506788e-01\n",
      " 3.43007065e-01 4.04467053e-01 3.13784788e-01 2.88382908e-01\n",
      " 3.12809348e-01 4.01907680e-01]\n",
      "Strikes from delta-space we calibrate to: [1760.30244267 1792.12196553 1816.71212101 1842.50241728 1876.49909563\n",
      " 1420.95760002 1639.62882714 1819.54411995 2073.8125857  2385.94226778\n",
      " 1306.70093152 1588.16204984 1822.53136489 2203.12795921 2654.12815981\n",
      " 1230.91744071 1553.16285055 1825.98585506 2335.0315271  2926.88421548\n",
      " 1167.31887071 1528.54727428 1829.52152401 2466.76548134 3238.32402857\n",
      " 1120.064072   1511.69649133 1832.90704055 2592.26809592 3545.7341997\n",
      " 1083.38698363 1499.94674551 1836.52641377 2718.07963736 3863.74914952\n",
      " 1052.67434544 1491.92857822 1840.93788695 2853.6659674  4225.09183214\n",
      " 1026.18538726 1487.07681845 1846.23528009 3001.7809996  4642.32881308\n",
      " 1003.46779374 1484.87876511 1852.         3157.90393101 5102.21657663]\n",
      "Tenors from delta-space we calibrate to: [3.63394216e-04 3.63394216e-04 3.63394216e-04 3.63394216e-04\n",
      " 3.63394216e-04 1.01428843e-01 1.01428843e-01 1.01428843e-01\n",
      " 1.01428843e-01 1.01428843e-01 2.02494292e-01 2.02494292e-01\n",
      " 2.02494292e-01 2.02494292e-01 2.02494292e-01 3.03559741e-01\n",
      " 3.03559741e-01 3.03559741e-01 3.03559741e-01 3.03559741e-01\n",
      " 4.04625190e-01 4.04625190e-01 4.04625190e-01 4.04625190e-01\n",
      " 4.04625190e-01 5.05690639e-01 5.05690639e-01 5.05690639e-01\n",
      " 5.05690639e-01 5.05690639e-01 6.06756088e-01 6.06756088e-01\n",
      " 6.06756088e-01 6.06756088e-01 6.06756088e-01 7.07821537e-01\n",
      " 7.07821537e-01 7.07821537e-01 7.07821537e-01 7.07821537e-01\n",
      " 8.08886986e-01 8.08886986e-01 8.08886986e-01 8.08886986e-01\n",
      " 8.08886986e-01 9.09952435e-01 9.09952435e-01 9.09952435e-01\n",
      " 9.09952435e-01 9.09952435e-01]\n",
      "Thetas by dots: [0.00036068 0.00036068 0.00036068 0.00036068 0.02729267 0.02729267\n",
      " 0.02729267 0.02729267 0.05456578 0.05456578 0.05456578 0.05456578\n",
      " 0.08646699 0.08646699 0.08646699 0.08646699 0.11908408 0.11908408\n",
      " 0.11908408 0.11908408 0.15107514 0.15107514 0.15107514 0.15107514\n",
      " 0.18319199 0.18319199 0.18319199 0.18319199 0.21677578 0.21677578\n",
      " 0.21677578 0.21677578 0.2521224  0.2521224  0.2521224  0.2521224\n",
      " 0.28838291 0.28838291 0.28838291 0.28838291]\n",
      "[ 1.06468111  0.47092996 -1.46032888  0.04498642  1.28781736]\n",
      "1.4953043546988499e-09\n"
     ]
    }
   ],
   "source": [
    "vol_surface_chain_space = get_vol_surface(\"deribit_vol_surface.csv\")\n",
    "# convert to delta-space\n",
    "vol_surface_delta_space: VolSurfaceDeltaSpace = SABRCalc().surface_to_delta_space(\n",
    "    vol_surface_chain_space, Backbone(1.0)\n",
    ")\n",
    "\n",
    "# get all market with usable format\n",
    "ssvi = SSVICalc()\n",
    "calc_params, calibration_error, strikes, Ts, implied_variances = ssvi.calibrate(vol_surface_delta_space, 10, True)\n",
    "ivs = np.sqrt(implied_variances/Ts)"
   ]
  },
  {
   "cell_type": "code",
   "execution_count": 58,
   "id": "2ba9e916-c5f9-4669-a3b6-bf87417b507d",
   "metadata": {
    "scrolled": true
   },
   "outputs": [
    {
     "data": {
      "text/html": [
       "<iframe\n",
       "    scrolling=\"no\"\n",
       "    width=\"1020px\"\n",
       "    height=\"1020\"\n",
       "    src=\"iframe_figures/figure_58.html\"\n",
       "    frameborder=\"0\"\n",
       "    allowfullscreen\n",
       "></iframe>\n"
      ]
     },
     "metadata": {},
     "output_type": "display_data"
    }
   ],
   "source": [
    "fig = go.Figure(data=[\n",
    "    go.Scatter3d(z=ivs[5:], x=strikes[5:], y=Ts[5:], mode='markers'),\n",
    "    go.Surface(z=ivs[5:], x=strikes[5:], y=Ts[5:])\n",
    "\n",
    "])\n",
    "fig.update_layout(title='SSVI Volatility Surface', template=\"plotly_white\", width=1000, height=1000)\n",
    "fig.update_scenes(xaxis_title_text='Strike, USD',\n",
    "                  yaxis_title_text='Time to maturity, years',\n",
    "                  zaxis_title_text='Implied volatility',\n",
    "                 zaxis=dict(range=[0.4, 0.8])\n",
    "                 )\n",
    "\n",
    "                    \n",
    "\n",
    "fig.show()"
   ]
  },
  {
   "cell_type": "code",
   "execution_count": null,
   "id": "b098b8fa-7294-473d-96e0-01f25d2a08ca",
   "metadata": {
    "scrolled": true
   },
   "outputs": [],
   "source": [
    "\n"
   ]
  },
  {
   "cell_type": "code",
   "execution_count": null,
   "id": "226e884f-c2f4-462c-88ad-4f83b761af41",
   "metadata": {},
   "outputs": [],
   "source": []
  },
  {
   "cell_type": "code",
   "execution_count": null,
   "id": "cb696e2e-0412-43a1-b2b8-b3acd9b558e9",
   "metadata": {},
   "outputs": [],
   "source": []
  },
  {
   "cell_type": "code",
   "execution_count": null,
   "id": "b15d00a4-3bca-44ce-a63d-3997ef1b524e",
   "metadata": {},
   "outputs": [],
   "source": []
  },
  {
   "cell_type": "code",
   "execution_count": null,
   "id": "04ee8dd8-ae84-4a16-8d78-f87a4a09fe31",
   "metadata": {},
   "outputs": [],
   "source": []
  },
  {
   "cell_type": "code",
   "execution_count": null,
   "id": "b3e13204-6f51-4e0a-a128-b3fc7e81bf11",
   "metadata": {},
   "outputs": [],
   "source": []
  },
  {
   "cell_type": "code",
   "execution_count": null,
   "id": "6628ddfb-bf5a-44b6-8b8d-2cabaef3e0f7",
   "metadata": {},
   "outputs": [],
   "source": []
  },
  {
   "cell_type": "code",
   "execution_count": null,
   "id": "4f264704-15e5-4609-b400-7becd79209b0",
   "metadata": {},
   "outputs": [],
   "source": []
  },
  {
   "cell_type": "code",
   "execution_count": null,
   "id": "f39385d2-e751-4cc2-b5cd-288affbe9e6e",
   "metadata": {},
   "outputs": [],
   "source": []
  },
  {
   "cell_type": "code",
   "execution_count": null,
   "id": "22c1137c-38f7-4554-aeed-e791a324532b",
   "metadata": {},
   "outputs": [],
   "source": [
    "ssvi_params = SSVIParams(\n",
    "    Eta(calc_params[0]),\n",
    "    Lambda(calc_params[1]), \n",
    "    Alpha(calc_params[2]), \n",
    "    Beta(calc_params[3]), \n",
    "    Gamma_(calc_params[4])\n",
    ")\n",
    "ssvi._grid_implied_variances(SSVIParams)"
   ]
  },
  {
   "cell_type": "code",
   "execution_count": null,
   "id": "ba5338b4-6356-4d4d-984f-edc290af43c5",
   "metadata": {},
   "outputs": [],
   "source": []
  },
  {
   "cell_type": "code",
   "execution_count": null,
   "id": "0255ed25-03ec-4690-870d-c54a755b43b3",
   "metadata": {},
   "outputs": [],
   "source": []
  }
 ],
 "metadata": {
  "kernelspec": {
   "display_name": "Python 3 (ipykernel)",
   "language": "python",
   "name": "python3"
  },
  "language_info": {
   "codemirror_mode": {
    "name": "ipython",
    "version": 3
   },
   "file_extension": ".py",
   "mimetype": "text/x-python",
   "name": "python",
   "nbconvert_exporter": "python",
   "pygments_lexer": "ipython3",
   "version": "3.11.0"
  }
 },
 "nbformat": 4,
 "nbformat_minor": 5
}
